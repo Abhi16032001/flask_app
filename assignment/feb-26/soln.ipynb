{
 "cells": [
  {
   "cell_type": "markdown",
   "id": "102a04d0-dca7-4a53-b7b6-737d065a2937",
   "metadata": {},
   "source": [
    "## 26 Feb Assignment Solution"
   ]
  },
  {
   "cell_type": "code",
   "execution_count": 1,
   "id": "9c901ecf-6b68-4e6b-aa9f-da44cb3edb81",
   "metadata": {},
   "outputs": [],
   "source": [
    "import numpy as np"
   ]
  },
  {
   "cell_type": "code",
   "execution_count": 2,
   "id": "4e43deb8-8a92-4728-b53a-530c4b49cf0f",
   "metadata": {},
   "outputs": [],
   "source": [
    "list_ = [ '1' , '2' , '3' , '4' , '5']\n",
    "array_list = np.array(object = list_)"
   ]
  },
  {
   "cell_type": "markdown",
   "id": "1aa7d9cf-b7e0-48b3-8c92-672ffb18c4ac",
   "metadata": {},
   "source": [
    "### Q1. Is there any difference in the data type of variables list_ and array_list?\n",
    "If there is then write a code to print the data types of both the variables."
   ]
  },
  {
   "cell_type": "code",
   "execution_count": 3,
   "id": "3ec19db8-f232-4a7e-91e4-c225c2969bf2",
   "metadata": {},
   "outputs": [
    {
     "name": "stdout",
     "output_type": "stream",
     "text": [
      "['1', '2', '3', '4', '5']\n",
      "<class 'list'>\n"
     ]
    }
   ],
   "source": [
    "print(list_)\n",
    "# This the a normal list that we use in python\n",
    "# It's data types is <class 'list'>\n",
    "# No new library is required for this\n",
    "print(type(list_))"
   ]
  },
  {
   "cell_type": "code",
   "execution_count": 4,
   "id": "57aac298-2180-4071-b070-95657989a82f",
   "metadata": {},
   "outputs": [
    {
     "name": "stdout",
     "output_type": "stream",
     "text": [
      "['1' '2' '3' '4' '5']\n",
      "<class 'numpy.ndarray'>\n"
     ]
    }
   ],
   "source": [
    "print(array_list)\n",
    "# This is an numpy array\n",
    "# It's data types is <class 'numpy.ndarray'>\n",
    "# We need to import numpy to use this\n",
    "print(type(array_list))"
   ]
  },
  {
   "cell_type": "code",
   "execution_count": null,
   "id": "1b73922a-46bb-433b-8d7b-2ba40d891b7c",
   "metadata": {},
   "outputs": [],
   "source": []
  },
  {
   "cell_type": "markdown",
   "id": "94248d6c-487c-4475-b401-048c44ca4399",
   "metadata": {},
   "source": [
    "### Q2. Write a code to print the data type of each and every element of both the variables list_ and arra_list."
   ]
  },
  {
   "cell_type": "code",
   "execution_count": 5,
   "id": "59631f40-7f30-4c0b-b654-e4cacac3cbcb",
   "metadata": {},
   "outputs": [
    {
     "data": {
      "text/plain": [
       "dtype('<U1')"
      ]
     },
     "execution_count": 5,
     "metadata": {},
     "output_type": "execute_result"
    }
   ],
   "source": [
    "# array_list\n",
    "array_list.dtype"
   ]
  },
  {
   "cell_type": "code",
   "execution_count": 6,
   "id": "13e88a11-6384-4c24-b57a-ba596806a834",
   "metadata": {},
   "outputs": [
    {
     "name": "stdout",
     "output_type": "stream",
     "text": [
      "<class 'numpy.str_'>\n",
      "<class 'numpy.str_'>\n",
      "<class 'numpy.str_'>\n",
      "<class 'numpy.str_'>\n",
      "<class 'numpy.str_'>\n"
     ]
    }
   ],
   "source": [
    "for i in array_list: print(type(i))"
   ]
  },
  {
   "cell_type": "code",
   "execution_count": 7,
   "id": "a4c5f232-7d2e-44a7-b7aa-3e56be7d739c",
   "metadata": {},
   "outputs": [
    {
     "name": "stdout",
     "output_type": "stream",
     "text": [
      "<class 'str'>\n",
      "<class 'str'>\n",
      "<class 'str'>\n",
      "<class 'str'>\n",
      "<class 'str'>\n"
     ]
    }
   ],
   "source": [
    "# list_\n",
    "for i in list_: print(type(i))"
   ]
  },
  {
   "cell_type": "code",
   "execution_count": null,
   "id": "f4597cf9-a91b-4e00-9aef-5c0a1feb6cbb",
   "metadata": {},
   "outputs": [],
   "source": []
  },
  {
   "cell_type": "markdown",
   "id": "2be4b966-2058-4215-b4e2-09ec02396ac6",
   "metadata": {},
   "source": [
    "### Q3. Considering the following changes in the variable, array_list:\n",
    "\n",
    "array_list = np.array(object = list_, dtype = int)\n",
    "\n",
    "Will there be any difference in the data type of the elements present in both the variables, list_ and\n",
    "arra_list? If so then print the data types of each and every element present in both the variables, list_\n",
    "and arra_list."
   ]
  },
  {
   "cell_type": "code",
   "execution_count": 8,
   "id": "ab7d7a01-5d32-4c5d-8a7e-6f7555d2900f",
   "metadata": {},
   "outputs": [],
   "source": [
    "array_list = np.array(object = list_, dtype = int)"
   ]
  },
  {
   "cell_type": "code",
   "execution_count": 9,
   "id": "a6df62f2-abdd-4577-a0e5-64d9d04b8c2d",
   "metadata": {},
   "outputs": [
    {
     "data": {
      "text/plain": [
       "dtype('int64')"
      ]
     },
     "execution_count": 9,
     "metadata": {},
     "output_type": "execute_result"
    }
   ],
   "source": [
    "array_list.dtype\n",
    "# This types has been changes form Str(Unicode string) to Integer"
   ]
  },
  {
   "cell_type": "code",
   "execution_count": null,
   "id": "820916da-56d9-456a-b1b3-64528f5b7788",
   "metadata": {},
   "outputs": [],
   "source": []
  },
  {
   "cell_type": "code",
   "execution_count": null,
   "id": "961bf605-b584-4cb9-a810-00744e4eb183",
   "metadata": {},
   "outputs": [],
   "source": []
  },
  {
   "cell_type": "code",
   "execution_count": 10,
   "id": "3d05596e-33aa-4bac-9986-592744df911b",
   "metadata": {},
   "outputs": [
    {
     "data": {
      "text/plain": [
       "array([[1, 2, 3],\n",
       "       [4, 5, 6]])"
      ]
     },
     "execution_count": 10,
     "metadata": {},
     "output_type": "execute_result"
    }
   ],
   "source": [
    "# Consider the below code to answer further questions:\n",
    "num_list = [ [ 1 , 2 , 3 ] , [ 4 , 5 , 6 ] ]\n",
    "num_array = np.array(object = num_list)\n",
    "num_array"
   ]
  },
  {
   "cell_type": "markdown",
   "id": "7c995a87-3f33-44fb-9b15-1fae87613439",
   "metadata": {},
   "source": [
    "### Q4. Write a code to find the following characteristics of variable, num_array:"
   ]
  },
  {
   "cell_type": "code",
   "execution_count": 11,
   "id": "81aa8727-d6cd-459e-bfea-662f0dda5e13",
   "metadata": {},
   "outputs": [
    {
     "data": {
      "text/plain": [
       "(2, 3)"
      ]
     },
     "execution_count": 11,
     "metadata": {},
     "output_type": "execute_result"
    }
   ],
   "source": [
    "# (i) shape\n",
    "num_array.shape"
   ]
  },
  {
   "cell_type": "code",
   "execution_count": 12,
   "id": "f924385d-566e-474e-979d-4f589f5d8746",
   "metadata": {},
   "outputs": [],
   "source": [
    "# (ii) size"
   ]
  },
  {
   "cell_type": "code",
   "execution_count": 13,
   "id": "0db9b117-5390-417b-8358-47faf79f9f23",
   "metadata": {},
   "outputs": [
    {
     "data": {
      "text/plain": [
       "6"
      ]
     },
     "execution_count": 13,
     "metadata": {},
     "output_type": "execute_result"
    }
   ],
   "source": [
    "num_array.size"
   ]
  },
  {
   "cell_type": "code",
   "execution_count": null,
   "id": "e2ca5d93-73d9-42ed-abf7-593f8a4da74b",
   "metadata": {},
   "outputs": [],
   "source": []
  },
  {
   "cell_type": "markdown",
   "id": "4c0f2709-6514-4fb1-b8b1-045e88297a26",
   "metadata": {},
   "source": [
    "### Q5. Write a code to create numpy array of 3*3 matrix containing zeros only,\n",
    "using a numpy array creation function.\n",
    "\n",
    "[Hint: The size of the array will be 9 and the shape will be (3,3).]"
   ]
  },
  {
   "cell_type": "code",
   "execution_count": 14,
   "id": "e14c5df7-1bab-4578-acfb-180efa723c41",
   "metadata": {},
   "outputs": [
    {
     "data": {
      "text/plain": [
       "array([[0., 0., 0.],\n",
       "       [0., 0., 0.],\n",
       "       [0., 0., 0.]])"
      ]
     },
     "execution_count": 14,
     "metadata": {},
     "output_type": "execute_result"
    }
   ],
   "source": [
    "np.zeros((3,3))"
   ]
  },
  {
   "cell_type": "code",
   "execution_count": 15,
   "id": "cd763d8b-22cd-47bb-8015-b397bdac42e7",
   "metadata": {},
   "outputs": [
    {
     "data": {
      "text/plain": [
       "matrix([[0., 0., 0.],\n",
       "        [0., 0., 0.],\n",
       "        [0., 0., 0.]])"
      ]
     },
     "execution_count": 15,
     "metadata": {},
     "output_type": "execute_result"
    }
   ],
   "source": [
    "np.matrix(np.zeros((3,3)))"
   ]
  },
  {
   "cell_type": "code",
   "execution_count": null,
   "id": "2c8a04b5-955a-4361-a684-d647d78583b0",
   "metadata": {},
   "outputs": [],
   "source": []
  },
  {
   "cell_type": "markdown",
   "id": "216e446d-5833-4c1e-83c0-d2140f0d9cb2",
   "metadata": {},
   "source": [
    "### Q6. Create an identity matrix of shape (5,5) using numpy functions?\n",
    "\n",
    "[Hint: An identity matrix is a matrix containing 1 diagonally and other elements will be 0.]"
   ]
  },
  {
   "cell_type": "code",
   "execution_count": 16,
   "id": "06cc1aff-acbe-4ab0-abb6-19a6b2c75a50",
   "metadata": {},
   "outputs": [
    {
     "data": {
      "text/plain": [
       "array([[1., 0., 0., 0., 0.],\n",
       "       [0., 1., 0., 0., 0.],\n",
       "       [0., 0., 1., 0., 0.],\n",
       "       [0., 0., 0., 1., 0.],\n",
       "       [0., 0., 0., 0., 1.]])"
      ]
     },
     "execution_count": 16,
     "metadata": {},
     "output_type": "execute_result"
    }
   ],
   "source": [
    "np.eye(5)"
   ]
  },
  {
   "cell_type": "code",
   "execution_count": 17,
   "id": "5a2724f6-62de-42fe-8dc1-1cb69bc8a460",
   "metadata": {},
   "outputs": [
    {
     "data": {
      "text/plain": [
       "matrix([[1., 0., 0., 0., 0.],\n",
       "        [0., 1., 0., 0., 0.],\n",
       "        [0., 0., 1., 0., 0.],\n",
       "        [0., 0., 0., 1., 0.],\n",
       "        [0., 0., 0., 0., 1.]])"
      ]
     },
     "execution_count": 17,
     "metadata": {},
     "output_type": "execute_result"
    }
   ],
   "source": [
    "np.matrix(np.eye(5))"
   ]
  },
  {
   "cell_type": "code",
   "execution_count": null,
   "id": "acc18944-6d92-46a1-8233-94f4dbada0cf",
   "metadata": {},
   "outputs": [],
   "source": []
  },
  {
   "cell_type": "code",
   "execution_count": null,
   "id": "33e2e1e5-09cb-48c7-9825-8104de3ae30c",
   "metadata": {},
   "outputs": [],
   "source": []
  }
 ],
 "metadata": {
  "kernelspec": {
   "display_name": "Python 3 (ipykernel)",
   "language": "python",
   "name": "python3"
  },
  "language_info": {
   "codemirror_mode": {
    "name": "ipython",
    "version": 3
   },
   "file_extension": ".py",
   "mimetype": "text/x-python",
   "name": "python",
   "nbconvert_exporter": "python",
   "pygments_lexer": "ipython3",
   "version": "3.10.8"
  }
 },
 "nbformat": 4,
 "nbformat_minor": 5
}
